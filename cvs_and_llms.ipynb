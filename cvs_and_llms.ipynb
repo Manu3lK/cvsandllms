{
  "nbformat": 4,
  "nbformat_minor": 0,
  "metadata": {
    "colab": {
      "provenance": []
    },
    "kernelspec": {
      "name": "python3",
      "display_name": "Python 3"
    },
    "language_info": {
      "name": "python"
    }
  },
  "cells": [
    {
      "cell_type": "markdown",
      "source": [
        "# installs etc"
      ],
      "metadata": {
        "id": "2gdYCYfM8qwD"
      }
    },
    {
      "cell_type": "code",
      "source": [
        "# Clone the public GitHub repository\n",
        "!git clone https://github.com/Manu3lK/cvsandllms.git"
      ],
      "metadata": {
        "colab": {
          "base_uri": "https://localhost:8080/"
        },
        "id": "BGxv8asW0-t0",
        "outputId": "10816f1d-acfa-420e-9c28-0eb0d408abf2"
      },
      "execution_count": 1,
      "outputs": [
        {
          "output_type": "stream",
          "name": "stdout",
          "text": [
            "Cloning into 'cvsandllms'...\n",
            "remote: Enumerating objects: 6, done.\u001b[K\n",
            "remote: Counting objects: 100% (6/6), done.\u001b[K\n",
            "remote: Compressing objects: 100% (4/4), done.\u001b[K\n",
            "remote: Total 6 (delta 0), reused 0 (delta 0), pack-reused 0 (from 0)\u001b[K\n",
            "Receiving objects: 100% (6/6), done.\n"
          ]
        }
      ]
    },
    {
      "cell_type": "markdown",
      "source": [
        "# imports"
      ],
      "metadata": {
        "id": "pYoLc21Z8uR0"
      }
    },
    {
      "cell_type": "code",
      "source": [
        "import yaml\n",
        "import os\n",
        "from pathlib import Path"
      ],
      "metadata": {
        "id": "SUgY_7tx0-sm"
      },
      "execution_count": 2,
      "outputs": []
    },
    {
      "cell_type": "markdown",
      "source": [
        "# load prompts"
      ],
      "metadata": {
        "id": "c-iZv6wT8v_A"
      }
    },
    {
      "cell_type": "code",
      "source": [
        "try:\n",
        "  path_to_prompts = Path(\"\")\n",
        "  # Load and read the simple_prompts.yaml file\n",
        "  with open(path_to_prompts / 'simple_prompts.yaml', 'r') as file:\n",
        "    prompts = yaml.safe_load(file)\n",
        "  print(\"loaded from temporary colab storage\")\n",
        "\n",
        "except:\n",
        "  path_to_prompts = Path(\"/content/cvsandllms\")\n",
        "  # Load and read the simple_prompts.yaml file\n",
        "  with open(path_to_prompts / 'simple_prompts.yaml', 'r') as file:\n",
        "    prompts = yaml.safe_load(file)\n",
        "  print(\"loaded from git\")"
      ],
      "metadata": {
        "colab": {
          "base_uri": "https://localhost:8080/"
        },
        "id": "vJWtj6KD6pF_",
        "outputId": "21868522-470a-4d2f-c8f5-973c869bf825"
      },
      "execution_count": 8,
      "outputs": [
        {
          "output_type": "stream",
          "name": "stdout",
          "text": [
            "loaded from temporary colab storage\n"
          ]
        }
      ]
    },
    {
      "cell_type": "code",
      "source": [],
      "metadata": {
        "id": "Vp_eLP4B6pDg"
      },
      "execution_count": 3,
      "outputs": []
    },
    {
      "cell_type": "code",
      "source": [],
      "metadata": {
        "id": "8Ohap5826pA7"
      },
      "execution_count": 4,
      "outputs": []
    },
    {
      "cell_type": "code",
      "source": [
        "prompts[\"very_simple_prompt\"][\"v1\"]"
      ],
      "metadata": {
        "colab": {
          "base_uri": "https://localhost:8080/",
          "height": 35
        },
        "id": "0uVzSxxm2DsJ",
        "outputId": "9f88f39b-dfa6-4084-e7d4-b469df7cdb6e"
      },
      "execution_count": 11,
      "outputs": [
        {
          "output_type": "execute_result",
          "data": {
            "text/plain": [
              "'Analysiere den Lebenslauf und erstelle eine Zussammenfassung die ungefähr 200 bis 300 Wörter lang ist.\\n'"
            ],
            "application/vnd.google.colaboratory.intrinsic+json": {
              "type": "string"
            }
          },
          "metadata": {},
          "execution_count": 11
        }
      ]
    },
    {
      "cell_type": "code",
      "source": [],
      "metadata": {
        "id": "huZ_MzW23zwh"
      },
      "execution_count": 5,
      "outputs": []
    },
    {
      "cell_type": "code",
      "source": [],
      "metadata": {
        "id": "rniJNN_17zxF"
      },
      "execution_count": null,
      "outputs": []
    },
    {
      "cell_type": "code",
      "source": [],
      "metadata": {
        "id": "s2PI9WHj7zvp"
      },
      "execution_count": null,
      "outputs": []
    },
    {
      "cell_type": "code",
      "source": [],
      "metadata": {
        "id": "cfJU3YKD7zuW"
      },
      "execution_count": null,
      "outputs": []
    }
  ]
}