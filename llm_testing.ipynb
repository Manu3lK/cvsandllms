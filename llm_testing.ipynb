{
 "cells": [
  {
   "cell_type": "code",
   "execution_count": null,
   "metadata": {},
   "outputs": [],
   "source": [
    "from langchain_openai import ChatOpenAI\n",
    "import os"
   ]
  },
  {
   "cell_type": "code",
   "execution_count": null,
   "metadata": {},
   "outputs": [],
   "source": [
    "cortecs_api_key = \"some_key\"\n",
    "os.environ[\"OPENAI_API_KEY\"] = cortecs_api_key"
   ]
  },
  {
   "cell_type": "markdown",
   "metadata": {},
   "source": [
    "# prompts"
   ]
  },
  {
   "cell_type": "code",
   "execution_count": null,
   "metadata": {},
   "outputs": [],
   "source": [
    "prompt_simple = \"Analysiere den Lebenslauf und erstelle eine Zussammenfassung die ungefähr 200 bis 300 Wörter lang ist.\" + \"\\n\" * 3\n",
    "\n",
    "modular_prompt = '''Analysiere den Lebenslauf und erstelle eine Zussammenfassung.\n",
    "Berücksichtige und erfülle dabei folgende Punkte:\n",
    "\n",
    "\n",
    "* verfasse die Zusammenfassung in einer ansprechenden Mischung aus Marketingdeutsch und proffesionellem Ton. Übertreibe es aber nicht, sie soll sich natürlich lesen.\n",
    "\n",
    "* in Summe beträgt die Länge zwischen 200 bis 300 Wörter\n",
    "\n",
    "* versuche ähnliche Tätigkeiten zu erfassen und integriere die Beschreibungen dieser Gruppierungen in deine Analyse\n",
    "\n",
    "* erfasse die fachlichen und persönlichen Kompetenzen der sich bewerbenden Person\n",
    "\n",
    "* für den Fall das zeitliche Lücken im Lebenslauf exisiteren oder eine Zeitperiode fehlt, erstelle eine Anmerkung; ansonsten nicht!\n",
    "\n",
    "* ignoriere Rasse, Geschlecht und Alter der Person\n",
    "\n",
    "* gib eine sehr kurze Übersicht über die Schlüsselprojekte und deren Ergebnisse\n",
    "\n",
    "* wähle ungefähr 7 möglichst unterschiedliche Projekte und erstelle eine Aufzählung. Gib bei jedem Projekt zuerst die Jahreszahl an und dannach eine kurze Beschreibung.\n",
    "wenn vorhanden unterteile die Aufzählung in Arten der Tätigkeit, wie z.B.: Selbständig und Angestellt\n",
    "\n",
    "* erstelle eine kopakte Aufzählung aller Kompetenzen inklusive Zertifizierungen\n",
    "\n",
    "\n",
    "\n",
    "Erstelle die Zussammenfassung für die folgende Bewerbung, erfülle dabei alle bisher gennannten Kritieren:\n",
    "============================================================''' + \"\\n\" * 3"
   ]
  },
  {
   "cell_type": "code",
   "execution_count": null,
   "metadata": {},
   "outputs": [],
   "source": [
    "resume = '''Projekt- und IT-Management\n",
    "\n",
    "\n",
    "\n",
    "CV - SELBSTÄNDIG (MEBIT e.U.)\n",
    "08/2018-\n",
    "lfd.\n",
    "E rste  Digital\n",
    "- •   Laufendes Projekt- und Demand-Management im Umfeld\n",
    "CRM-Marketing und IT-Softwareentwicklung, Sicherstellung\n",
    "von Projektfortschritten\n",
    "- •   Single Point of Contact für den internen Kunden als\n",
    "Schnittstelle zwischen Marketing und IT,\n",
    "Wissensmultiplikation, Onboarding\n",
    "- •   Prozessverbesserung und Prozessdokumentation\n",
    "- Lfd.\n",
    "Kleinere Aufträge\n",
    "- •   ASFINAG: Strukturierung und Moderation von\n",
    "Großgruppenveranstaltungen für ein konzernweites Projekt\n",
    "im Rahmen von NIS. Ausarbeitung von Maßnahmen zur\n",
    "nachhaltigen Prozessverbesserung\n",
    "- •   Arztpraxis: Planung und Installation der IT einer Arztpraxis\n",
    "- •   Sicherheitskonzepte\n",
    "- •   M365 Migrationen, Sharepoint Listenautomation\n",
    "- •   Teambuildings, Organisationsentwicklung, Coaching\n",
    "06/2017-\n",
    "07/2018\n",
    "Vorbereitung Unternehmensgründung\n",
    "- •   Vorbereitung zum Wechsel in die Selbstständigkeit im Zuge\n",
    "des Unternehmensgründungsprogrammes des AMS\n",
    "STÄRKEN\n",
    "- •  Ergebnis- und\n",
    "zielorientiert\n",
    "- •  Überblick behalten\n",
    "- •  Kundenorientierung\n",
    "- •  Kühler Kopf in\n",
    "schwierigen Situationen\n",
    "- •  Coaching\n",
    "- •  Geht nicht gibt’s nicht\n",
    "FÄHIGKEITEN\n",
    "- •  Demand-Management\n",
    "- •  Projekt-Management\n",
    "- •  Prozessoptimierung\n",
    "- •  Analyse\n",
    "- •  Moderation\n",
    "- •  Kanban\n",
    "TOOLS\n",
    "- •  MS Office\n",
    "- •  Service now, Remedy\n",
    "- •  Confluence\n",
    "- •  Jira\n",
    "- •  FortiNet\n",
    "- •  Linux Shell\n",
    "\n",
    "\n",
    "\n",
    "\n",
    "\n",
    "\n",
    "\n",
    "\n",
    "\n",
    "\n",
    "\n",
    "\n",
    "\n",
    "\n",
    "t\n",
    "\n",
    "\n",
    "\n",
    "\n",
    "\n",
    "\n",
    "\n",
    "\n",
    "\n",
    "\n",
    "\n",
    "\n",
    "\n",
    "CV - ANSTELLUNGEN\n",
    "07/2016-\n",
    "05/2017\n",
    "MOL Austria Handelsges.m.b.H, Local CIO\n",
    "- •   CIO für MOL Austria, MOL Germany und Roth Heizöle\n",
    "- •   Umsetzung von Konzernrichtlinien unter Berücksichtigung\n",
    "lokaler Gegebenheiten. Lobbying innerhalb des Konzerns\n",
    "für nationale Belange\n",
    "- •   Projekt- und Budgetplanung, Projektumsetzung\n",
    "- •   Realisierungsszenarien für nationale Projekte entwickeln.\n",
    "- •   Partner und Synergien im Konzerns identifizieren.\n",
    "04/2015-\n",
    "06/2016\n",
    "Sabattical\n",
    "- •   berufliche Neuorientierung, Gesundheit\n",
    "08/2009–\n",
    "03/2015\n",
    "AOP Orphan Pharmaceuticals AG\n",
    "ab 07/2013: Head of IT\n",
    "ab 01/2011: IT Operations Manager und Vorgesetzter Helpdesk\n",
    "ab 08/2009: Assistant IT\n",
    "- •   Komplette Reorganisation der IT-Systeme in einer virtuellen\n",
    "Umgebung auf Basis NetApp und VMWare.\n",
    "- •   Einführung der Novell Open Enterprise Suite auf Basis Suse\n",
    "Linux\n",
    "- •   Einführung von Sage dpw in Zusammenarbeit mit HR und\n",
    "Accounting\n",
    "- •   Positionierung der Abteilung als interner Dienstleister\n",
    "- •   Aufbau eines stabilen Teams\n",
    "- •   Budget- und Projektverantwortung\n",
    "08/2001–\n",
    "06/2009\n",
    "mobilkom austria AG, Helpdesk\n",
    "- •   SPOC für MitarbeiterInnen der mobilkom und Paybox\n",
    "- •   SPOC im erweiterten technischen Bereich für die Helpdesks\n",
    "der Töchter (Liechtenstein, Slowenien, Kroatien, Serbien,\n",
    "Mazedonien, Bulgarien, Weißrussland)\n",
    "09/1998–\n",
    "04/2001:\n",
    "Studium an der Bundesakademie für Sozialarbeit\n",
    "(Vollzeit)\n",
    "01/1995–\n",
    "08/1998\n",
    "Verein Lebenshilfe Wien, Behindertenbetreuer,\n",
    "- •   Arbeit mit mehrfach behinderten Menschen\n",
    "- •   Schnittstelle zwischen Klient:in, Sachwalter/Eltern und\n",
    "Ärzten, Therapeut:innen etc., Öffentlichkeitsarbeit\n",
    "BRANCHEN\n",
    "- •  Finanzdienstleistung\n",
    "- •  Informationstechnologie\n",
    "- •  Telekommunikation\n",
    "- •  Pharmaindustrie\n",
    "- •  Soziale Dienstleistungen\n",
    "WEiITERBILDUNGEN,\n",
    "ZERTIFIZIERUNGEN\n",
    "- •  Akademischer Coach\n",
    "- •  ISMS-Manager und -\n",
    "Auditor nach ISO 27001\n",
    "- •  zertifizierter\n",
    "Datenschutzbeauftragter\n",
    "(TÜV Akademie)\n",
    "AUSBILDUNG\n",
    "- •  Sigmund Freud\n",
    "Privatuniversität, Wien\n",
    "Masterlehrgang\n",
    "Beratungswissenschaften\n",
    "(seit 09/2021)\n",
    "- •  ARGE\n",
    "Bildungsmanagement\n",
    "Universitätslehrgang\n",
    "Coaching, Organisations-\n",
    "und Personalentwicklung\n",
    "(03/2020-06/2021)\n",
    "- •  Bundesakademie für\n",
    "Sozialarbeit\n",
    "Studium der Sozialarbeit\n",
    "(1998-2001)\n",
    "- •  HTL Wien Donaustadt\n",
    "Steuer- und\n",
    "Regelungstechnik\n",
    "(1988-1993)'''"
   ]
  },
  {
   "cell_type": "markdown",
   "metadata": {},
   "source": [
    "# models\n",
    "\n",
    "check if the models are running https://cortecs.ai/userArea/console\n",
    "and dont forget to Stop them!"
   ]
  },
  {
   "cell_type": "code",
   "execution_count": null,
   "metadata": {},
   "outputs": [],
   "source": [
    "# TODO: make this a sorted dict\n",
    "cortecs_models = {\n",
    "    # \"mistral_small\": [\"https://tmxn-369361.cortecs.eu/v1\", \"cortecs/Mistral-Small-24B-Instruct-2501-FP8-Dynamic\"],\n",
    "    # \"sauer_llama\": [\"https://fnol-563616.cortecs.eu/v1\", \"VAGOsolutions/Llama-3-SauerkrautLM-70b-Instruct\"],\n",
    "    \"sauer_mixtral\": [\"https://tqdp-562955.cortecs.eu/v1\", \"VAGOsolutions/SauerkrautLM-Mixtral-8x7B-Instruct\"],\n",
    "}"
   ]
  },
  {
   "cell_type": "code",
   "execution_count": null,
   "metadata": {},
   "outputs": [],
   "source": [
    "# TODO add tqdm cause its fancy\n",
    "def gen_summaries(model_dict, prompt, resume):\n",
    "    llm_outputs = {}\n",
    "    model_input = prompt + resume\n",
    "\n",
    "    for model in list(cortecs_models):\n",
    "        print(f\"loading model {model}\")\n",
    "        try:\n",
    "            llm = ChatOpenAI(openai_api_base=model_dict[model][0], model_name=model_dict[model][1])\n",
    "            response = llm.invoke(model_input)\n",
    "            llm_outputs[model] = response.text()\n",
    "            print(f\"Finished inference for model: {model}\")\n",
    "        except Exception as e:\n",
    "            print(f\"Failed to load model {model} because of error: {e}\")\n",
    "\n",
    "    return llm_outputs"
   ]
  },
  {
   "cell_type": "markdown",
   "metadata": {},
   "source": [
    "# viewing simple outputs"
   ]
  },
  {
   "cell_type": "code",
   "execution_count": null,
   "metadata": {},
   "outputs": [],
   "source": [
    "simple_p_outs = gen_summaries(cortecs_models, prompt_simple, resume)"
   ]
  },
  {
   "cell_type": "code",
   "execution_count": null,
   "metadata": {},
   "outputs": [],
   "source": [
    "# print(simple_p_outs[\"mistral_small\"])"
   ]
  },
  {
   "cell_type": "code",
   "execution_count": null,
   "metadata": {},
   "outputs": [],
   "source": [
    "# print(simple_p_outs[\"sauer_llama\"])"
   ]
  },
  {
   "cell_type": "code",
   "execution_count": null,
   "metadata": {},
   "outputs": [],
   "source": [
    "print(simple_p_outs[\"sauer_mixtral\"])"
   ]
  },
  {
   "cell_type": "markdown",
   "metadata": {},
   "source": [
    "# viewing modular prompt outputs"
   ]
  },
  {
   "cell_type": "code",
   "execution_count": null,
   "metadata": {},
   "outputs": [],
   "source": [
    "modular_p_outs = gen_summaries(cortecs_models, modular_prompt, resume)"
   ]
  },
  {
   "cell_type": "code",
   "execution_count": null,
   "metadata": {},
   "outputs": [],
   "source": [
    "# print(modular_p_outs[\"mistral_small\"])"
   ]
  },
  {
   "cell_type": "code",
   "execution_count": null,
   "metadata": {},
   "outputs": [],
   "source": [
    "# print(modular_p_outs[\"sauer_llama\"])"
   ]
  },
  {
   "cell_type": "code",
   "execution_count": null,
   "metadata": {},
   "outputs": [],
   "source": [
    "print(modular_p_outs[\"sauer_mixtral\"])"
   ]
  },
  {
   "cell_type": "code",
   "execution_count": null,
   "metadata": {},
   "outputs": [],
   "source": []
  }
 ],
 "metadata": {
  "kernelspec": {
   "display_name": "allgemeines_env",
   "language": "python",
   "name": "python3"
  },
  "language_info": {
   "codemirror_mode": {
    "name": "ipython",
    "version": 3
   },
   "file_extension": ".py",
   "mimetype": "text/x-python",
   "name": "python",
   "nbconvert_exporter": "python",
   "pygments_lexer": "ipython3",
   "version": "3.13.1"
  }
 },
 "nbformat": 4,
 "nbformat_minor": 2
}
