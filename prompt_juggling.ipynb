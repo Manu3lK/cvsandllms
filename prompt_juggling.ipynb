{
 "cells": [
  {
   "cell_type": "code",
   "execution_count": 43,
   "metadata": {},
   "outputs": [],
   "source": [
    "from pathlib import Path\n",
    "import yaml"
   ]
  },
  {
   "cell_type": "code",
   "execution_count": 44,
   "metadata": {},
   "outputs": [
    {
     "name": "stdout",
     "output_type": "stream",
     "text": [
      "['ton_und_stil', 'laenge', 'meta_perspektive', 'staerken_schwaechen', 'lueckenlosigkeit', 'unbiased', 'projekte', 'beispielprojekte_werdegang', 'kompetenzen']\n"
     ]
    }
   ],
   "source": [
    "path_to_prompts = Path(\"prompts\")\n",
    "# Load and read the simple_prompts.yaml file\n",
    "with open(path_to_prompts / 'modular_prompts.yaml', 'r') as file:\n",
    "    mp = yaml.safe_load(file)\n",
    "non_points = [\"simple_system_prompt\", \"bigger_system_prompt\", \"basis_befehl\", \"struktur_beschreibung\", \"cv_uebergabe\"]\n",
    "mp_points = [modul for modul in list(mp) if modul not in non_points]\n",
    "print(mp_points)"
   ]
  },
  {
   "cell_type": "code",
   "execution_count": null,
   "metadata": {},
   "outputs": [],
   "source": [
    "def get_newest_v(point):\n",
    "    version_number = max([int(v[1]) for v in list(mp[point])])\n",
    "    return mp[point][f\"v{version_number}\"]\n",
    "\n",
    "def build_modular_prompt(list_of_points):\n",
    "    '''nimmt derzeit immer die aktuellste version des prompts, reicht wsh vorerst'''\n",
    "    p_without_cv = \"\"\n",
    "    p_without_cv += mp[\"basis_befehl\"][\"v1\"] + \"\\n\"\n",
    "    p_without_cv += mp[\"struktur_beschreibung\"][\"v3\"] + \"\\n\"*3\n",
    "\n",
    "    for point in list_of_points:\n",
    "        p_without_cv += \"* \" + get_newest_v(point) + \"\\n\"*2\n",
    "\n",
    "    p_without_cv += \"\\n\"*2 + mp[\"cv_uebergabe\"][\"v3\"] + \"\\n\"\n",
    "    p_without_cv += \"=\"*60 + \"\\n\"*2\n",
    "\n",
    "    return p_without_cv"
   ]
  },
  {
   "cell_type": "code",
   "execution_count": 62,
   "metadata": {},
   "outputs": [
    {
     "name": "stdout",
     "output_type": "stream",
     "text": [
      "Analysiere den Lebenslauf und erstelle eine Zussammenfassung.\n",
      "Berücksichtige und erfülle folgende Punkte beim erstellen der Zussammenfassung:\n",
      "\n",
      "\n",
      "* verfasse die Zusammenfassung in einer ansprechenden Mischung aus Marketingdeutsch und proffesionellem Ton.\n",
      "\n",
      "* in Summe beträgt die Länge zwischen 200 bis 300 Wörter\n",
      "\n",
      "* versuche ähnliche Tätigkeiten zu erfassen und integriere die Beschreibungen dieser Gruppierungen in deine Analyse\n",
      "\n",
      "* erfasse die fachlichen und persönlichen Kompetenzen der sich bewerbenden Person\n",
      "\n",
      "* für den Fall das zeitliche Lücken im Lebenslauf exisiteren oder eine Zeitperiode fehlt, erstelle eine Anmerkung; ansonsten nicht!\n",
      "\n",
      "* ignoriere Rasse, Geschlecht und Alter der Person\n",
      "\n",
      "* gib eine sehr kurze Übersicht über die Schlüsselprojekte und deren Ergebnisse\n",
      "\n",
      "* wähle ungefähr 7 möglichst unterschiedliche Projekte und erstelle eine Aufzählung. Gib bei jedem Projekt zuerst die Jahreszahl an und dannach eine kurze Beschreibung.\n",
      "wenn vorhanden unterteile die Aufzählung in Arten der Tätigkeit, wie z.B.: Selbständig und Angestellt\n",
      "\n",
      "* erstelle eine kopakte Aufzählung aller Kompetenzen inklusive Zertifizierungen\n",
      "\n",
      "\n",
      "\n",
      "Erstelle die Zussammenfassung für die folgende Bewerbung, erfülle dabei alle bisher gennannten Kritieren:\n",
      "============================================================\n",
      "\n",
      "\n"
     ]
    }
   ],
   "source": [
    "modular_prompt = build_modular_prompt(['ton_und_stil', 'laenge', 'meta_perspektive', 'staerken_schwaechen', 'lueckenlosigkeit', 'unbiased', 'projekte', 'beispielprojekte_werdegang', 'kompetenzen'])\n",
    "print(modular_prompt)"
   ]
  },
  {
   "cell_type": "code",
   "execution_count": null,
   "metadata": {},
   "outputs": [],
   "source": []
  },
  {
   "cell_type": "code",
   "execution_count": null,
   "metadata": {},
   "outputs": [],
   "source": []
  }
 ],
 "metadata": {
  "kernelspec": {
   "display_name": "allgemeines_env",
   "language": "python",
   "name": "python3"
  },
  "language_info": {
   "codemirror_mode": {
    "name": "ipython",
    "version": 3
   },
   "file_extension": ".py",
   "mimetype": "text/x-python",
   "name": "python",
   "nbconvert_exporter": "python",
   "pygments_lexer": "ipython3",
   "version": "3.13.1"
  }
 },
 "nbformat": 4,
 "nbformat_minor": 2
}
